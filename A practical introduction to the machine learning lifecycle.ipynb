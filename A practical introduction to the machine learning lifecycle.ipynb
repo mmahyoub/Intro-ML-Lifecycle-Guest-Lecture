{
 "cells": [
  {
   "cell_type": "markdown",
   "id": "c40abf85",
   "metadata": {},
   "source": [
    "<h1 align = 'center'> Overview of the Machine Learning Lifecycle: General Aspects and a Demo </h1>\n",
    "<h3 align ='center' > Mohammed Mahyoub | mmahyou1@binghamton.edu <h3/>\n",
    "<h3 align ='center' > A guest lecture at the \"Programming for Business Analytics\" class, 11/21/2022 | Binghamton Univeristy, New York <h3/>    "
   ]
  },
  {
   "cell_type": "markdown",
   "id": "1dce4290",
   "metadata": {},
   "source": [
    "# 0. Overview \n",
    "Machine learning lifecycle typically entails the following steps:\n",
    "1. Scoping and business understaning \n",
    "    * What are the ojectives?\n",
    "    * What is the business process and what is the role of the ML model?\n",
    "    * How will the model be used within the business process? Real-time? Batch? \n",
    "2. Data\n",
    "    * Define data elements \n",
    "    * Validate with Subject Matter Experts \n",
    "    * Gather data \n",
    "    * Clean, preprocess, and prepare data for modeling\n",
    "    * Analyze data \n",
    "3. Model Development\n",
    "    * Baseline modeling\n",
    "    * Model selection \n",
    "    * Model optimization \n",
    "4. Model Testing \n",
    "    * Define evaluation metrics \n",
    "    * Evalulate performance on a testing dataset \n",
    "5. Model packaging \n",
    "5. Deployment\n",
    "    * Define deployment schema:\n",
    "        * Real-time inference or batch inference \n",
    "        * On the cloud or on premise\n",
    "    * Deploy \n",
    "6. Monitoring and Maintenance\n",
    "    * Monitor for data drift \n",
    "    * Monitor for concept drift \n",
    "    * Identify and resolve bugs \n",
    "    * Retrain model if necessary \n"
   ]
  },
  {
   "cell_type": "markdown",
   "id": "e8bd77bf",
   "metadata": {},
   "source": [
    "# 1. Scoping and business understanding "
   ]
  },
  {
   "cell_type": "markdown",
   "id": "4c51d8e5",
   "metadata": {},
   "source": [
    "- Objectigves:\n",
    "    * Build a predictive model to estimate the income of an individual (>= 50K or < 50K)."
   ]
  },
  {
   "cell_type": "markdown",
   "id": "8d849478",
   "metadata": {},
   "source": [
    "- Business process:\n",
    "    * The model is to be itegrated with a sensistive desicion-making process in a targeted marketing compaign. \n",
    "    * A group of individuals will be presented to the ML model at a time to estimate their income. Then, based on their icome they will be assigned to a compaign group (Group A or Group B).  "
   ]
  },
  {
   "cell_type": "markdown",
   "id": "b03c7fa7",
   "metadata": {},
   "source": [
    "- Envisioning model use:\n",
    "    * Model will be used by the compaign architect as stand-alone application\n",
    "    * Batch inference is prefered for this application. Upload a data file containing charateristics for a collection of individuals. The model shall return the estimated income for each one. "
   ]
  },
  {
   "cell_type": "markdown",
   "id": "d5f068e2",
   "metadata": {},
   "source": [
    "# 2. Data"
   ]
  },
  {
   "cell_type": "markdown",
   "id": "58d32e40",
   "metadata": {},
   "source": [
    "### 2.1 Data elements definition and validation "
   ]
  },
  {
   "cell_type": "markdown",
   "id": "b7fdfadf",
   "metadata": {},
   "source": [
    "- Define data elements and validate with subject matter experts: For this lecture, we will assume that we have already\n",
    "    * reviewed the literature and itdentify a list of features \n",
    "    * talked to subject matter experts to gain more insights \n",
    "    * validated the data elements and refined them \n",
    "    \n",
    "Let us assume that the defined and refined data elements to build an income prediction model are:\n",
    "   1. Age\n",
    "   2. Gender\n",
    "   3. Education\n",
    "   4. Is Married?\n",
    "   5. Occupation\n",
    "   6. Hours-per-week\n",
    "   7. Workclass \n",
    "   \n",
    "The target vaiable is income (> 50K or <=50K).\n",
    "\n",
    "> Note: The target variable is binary. Thus, we will be solving a classification problem. "
   ]
  },
  {
   "cell_type": "markdown",
   "id": "9b2f26c7",
   "metadata": {},
   "source": [
    "### 2.2 Gather data\n",
    "In real scenarios, we collect data from a system, e.g., using SQL or NonSQL. For the sake of illustration we will use an income dataset downloaded from the UCI repository: https://archive.ics.uci.edu/ml/datasets/census+income."
   ]
  },
  {
   "cell_type": "code",
   "execution_count": 1,
   "id": "00ec93ac",
   "metadata": {},
   "outputs": [],
   "source": [
    "# Import packages to get data  \n",
    "import pandas as pd \n",
    "import numpy as np \n",
    "import matplotlib.pyplot as plt \n",
    "import seaborn as sns\n",
    "%matplotlib inline\n",
    "\n",
    "import warnings\n",
    "warnings.filterwarnings('ignore')"
   ]
  },
  {
   "cell_type": "code",
   "execution_count": 2,
   "id": "e43d4a18",
   "metadata": {},
   "outputs": [],
   "source": [
    "dataset = pd.read_csv('adult.data', header = None)"
   ]
  },
  {
   "cell_type": "code",
   "execution_count": 3,
   "id": "cd5b5349",
   "metadata": {},
   "outputs": [
    {
     "data": {
      "text/html": [
       "<div>\n",
       "<style scoped>\n",
       "    .dataframe tbody tr th:only-of-type {\n",
       "        vertical-align: middle;\n",
       "    }\n",
       "\n",
       "    .dataframe tbody tr th {\n",
       "        vertical-align: top;\n",
       "    }\n",
       "\n",
       "    .dataframe thead th {\n",
       "        text-align: right;\n",
       "    }\n",
       "</style>\n",
       "<table border=\"1\" class=\"dataframe\">\n",
       "  <thead>\n",
       "    <tr style=\"text-align: right;\">\n",
       "      <th></th>\n",
       "      <th>0</th>\n",
       "      <th>1</th>\n",
       "      <th>2</th>\n",
       "      <th>3</th>\n",
       "      <th>4</th>\n",
       "      <th>5</th>\n",
       "      <th>6</th>\n",
       "      <th>7</th>\n",
       "      <th>8</th>\n",
       "      <th>9</th>\n",
       "      <th>10</th>\n",
       "      <th>11</th>\n",
       "      <th>12</th>\n",
       "      <th>13</th>\n",
       "      <th>14</th>\n",
       "    </tr>\n",
       "  </thead>\n",
       "  <tbody>\n",
       "    <tr>\n",
       "      <th>0</th>\n",
       "      <td>39</td>\n",
       "      <td>State-gov</td>\n",
       "      <td>77516</td>\n",
       "      <td>Bachelors</td>\n",
       "      <td>13</td>\n",
       "      <td>Never-married</td>\n",
       "      <td>Adm-clerical</td>\n",
       "      <td>Not-in-family</td>\n",
       "      <td>White</td>\n",
       "      <td>Male</td>\n",
       "      <td>2174</td>\n",
       "      <td>0</td>\n",
       "      <td>40</td>\n",
       "      <td>United-States</td>\n",
       "      <td>&lt;=50K</td>\n",
       "    </tr>\n",
       "    <tr>\n",
       "      <th>1</th>\n",
       "      <td>50</td>\n",
       "      <td>Self-emp-not-inc</td>\n",
       "      <td>83311</td>\n",
       "      <td>Bachelors</td>\n",
       "      <td>13</td>\n",
       "      <td>Married-civ-spouse</td>\n",
       "      <td>Exec-managerial</td>\n",
       "      <td>Husband</td>\n",
       "      <td>White</td>\n",
       "      <td>Male</td>\n",
       "      <td>0</td>\n",
       "      <td>0</td>\n",
       "      <td>13</td>\n",
       "      <td>United-States</td>\n",
       "      <td>&lt;=50K</td>\n",
       "    </tr>\n",
       "    <tr>\n",
       "      <th>2</th>\n",
       "      <td>38</td>\n",
       "      <td>Private</td>\n",
       "      <td>215646</td>\n",
       "      <td>HS-grad</td>\n",
       "      <td>9</td>\n",
       "      <td>Divorced</td>\n",
       "      <td>Handlers-cleaners</td>\n",
       "      <td>Not-in-family</td>\n",
       "      <td>White</td>\n",
       "      <td>Male</td>\n",
       "      <td>0</td>\n",
       "      <td>0</td>\n",
       "      <td>40</td>\n",
       "      <td>United-States</td>\n",
       "      <td>&lt;=50K</td>\n",
       "    </tr>\n",
       "    <tr>\n",
       "      <th>3</th>\n",
       "      <td>53</td>\n",
       "      <td>Private</td>\n",
       "      <td>234721</td>\n",
       "      <td>11th</td>\n",
       "      <td>7</td>\n",
       "      <td>Married-civ-spouse</td>\n",
       "      <td>Handlers-cleaners</td>\n",
       "      <td>Husband</td>\n",
       "      <td>Black</td>\n",
       "      <td>Male</td>\n",
       "      <td>0</td>\n",
       "      <td>0</td>\n",
       "      <td>40</td>\n",
       "      <td>United-States</td>\n",
       "      <td>&lt;=50K</td>\n",
       "    </tr>\n",
       "    <tr>\n",
       "      <th>4</th>\n",
       "      <td>28</td>\n",
       "      <td>Private</td>\n",
       "      <td>338409</td>\n",
       "      <td>Bachelors</td>\n",
       "      <td>13</td>\n",
       "      <td>Married-civ-spouse</td>\n",
       "      <td>Prof-specialty</td>\n",
       "      <td>Wife</td>\n",
       "      <td>Black</td>\n",
       "      <td>Female</td>\n",
       "      <td>0</td>\n",
       "      <td>0</td>\n",
       "      <td>40</td>\n",
       "      <td>Cuba</td>\n",
       "      <td>&lt;=50K</td>\n",
       "    </tr>\n",
       "  </tbody>\n",
       "</table>\n",
       "</div>"
      ],
      "text/plain": [
       "   0                  1       2           3   4                    5   \\\n",
       "0  39          State-gov   77516   Bachelors  13        Never-married   \n",
       "1  50   Self-emp-not-inc   83311   Bachelors  13   Married-civ-spouse   \n",
       "2  38            Private  215646     HS-grad   9             Divorced   \n",
       "3  53            Private  234721        11th   7   Married-civ-spouse   \n",
       "4  28            Private  338409   Bachelors  13   Married-civ-spouse   \n",
       "\n",
       "                   6               7       8        9     10  11  12  \\\n",
       "0        Adm-clerical   Not-in-family   White     Male  2174   0  40   \n",
       "1     Exec-managerial         Husband   White     Male     0   0  13   \n",
       "2   Handlers-cleaners   Not-in-family   White     Male     0   0  40   \n",
       "3   Handlers-cleaners         Husband   Black     Male     0   0  40   \n",
       "4      Prof-specialty            Wife   Black   Female     0   0  40   \n",
       "\n",
       "               13      14  \n",
       "0   United-States   <=50K  \n",
       "1   United-States   <=50K  \n",
       "2   United-States   <=50K  \n",
       "3   United-States   <=50K  \n",
       "4            Cuba   <=50K  "
      ]
     },
     "execution_count": 3,
     "metadata": {},
     "output_type": "execute_result"
    }
   ],
   "source": [
    "dataset.head()"
   ]
  },
  {
   "cell_type": "code",
   "execution_count": 4,
   "id": "3e0f982a",
   "metadata": {},
   "outputs": [
    {
     "data": {
      "text/html": [
       "<div>\n",
       "<style scoped>\n",
       "    .dataframe tbody tr th:only-of-type {\n",
       "        vertical-align: middle;\n",
       "    }\n",
       "\n",
       "    .dataframe tbody tr th {\n",
       "        vertical-align: top;\n",
       "    }\n",
       "\n",
       "    .dataframe thead th {\n",
       "        text-align: right;\n",
       "    }\n",
       "</style>\n",
       "<table border=\"1\" class=\"dataframe\">\n",
       "  <thead>\n",
       "    <tr style=\"text-align: right;\">\n",
       "      <th></th>\n",
       "      <th>0</th>\n",
       "    </tr>\n",
       "  </thead>\n",
       "  <tbody>\n",
       "    <tr>\n",
       "      <th>0</th>\n",
       "      <td>age</td>\n",
       "    </tr>\n",
       "    <tr>\n",
       "      <th>1</th>\n",
       "      <td>workclass</td>\n",
       "    </tr>\n",
       "    <tr>\n",
       "      <th>2</th>\n",
       "      <td>fnlwgt</td>\n",
       "    </tr>\n",
       "    <tr>\n",
       "      <th>3</th>\n",
       "      <td>education</td>\n",
       "    </tr>\n",
       "    <tr>\n",
       "      <th>4</th>\n",
       "      <td>education-num</td>\n",
       "    </tr>\n",
       "    <tr>\n",
       "      <th>5</th>\n",
       "      <td>marital-status</td>\n",
       "    </tr>\n",
       "    <tr>\n",
       "      <th>6</th>\n",
       "      <td>occupation</td>\n",
       "    </tr>\n",
       "    <tr>\n",
       "      <th>7</th>\n",
       "      <td>relationship</td>\n",
       "    </tr>\n",
       "    <tr>\n",
       "      <th>8</th>\n",
       "      <td>race</td>\n",
       "    </tr>\n",
       "    <tr>\n",
       "      <th>9</th>\n",
       "      <td>sex</td>\n",
       "    </tr>\n",
       "    <tr>\n",
       "      <th>10</th>\n",
       "      <td>capital-gain</td>\n",
       "    </tr>\n",
       "    <tr>\n",
       "      <th>11</th>\n",
       "      <td>capital-loss</td>\n",
       "    </tr>\n",
       "    <tr>\n",
       "      <th>12</th>\n",
       "      <td>hours-per-week</td>\n",
       "    </tr>\n",
       "    <tr>\n",
       "      <th>13</th>\n",
       "      <td>native-country</td>\n",
       "    </tr>\n",
       "    <tr>\n",
       "      <th>14</th>\n",
       "      <td>income</td>\n",
       "    </tr>\n",
       "  </tbody>\n",
       "</table>\n",
       "</div>"
      ],
      "text/plain": [
       "                 0\n",
       "0              age\n",
       "1        workclass\n",
       "2           fnlwgt\n",
       "3        education\n",
       "4    education-num\n",
       "5   marital-status\n",
       "6       occupation\n",
       "7     relationship\n",
       "8             race\n",
       "9              sex\n",
       "10    capital-gain\n",
       "11    capital-loss\n",
       "12  hours-per-week\n",
       "13  native-country\n",
       "14          income"
      ]
     },
     "execution_count": 4,
     "metadata": {},
     "output_type": "execute_result"
    }
   ],
   "source": [
    "variable_names = pd.read_csv('variable_names.txt', header = None)\n",
    "variable_names"
   ]
  },
  {
   "cell_type": "code",
   "execution_count": 5,
   "id": "ddaa4d27",
   "metadata": {},
   "outputs": [
    {
     "data": {
      "text/plain": [
       "array(['age', 'workclass', 'fnlwgt', 'education', 'education-num',\n",
       "       'marital-status', 'occupation', 'relationship', 'race', 'sex',\n",
       "       'capital-gain', 'capital-loss', 'hours-per-week', 'native-country',\n",
       "       'income'], dtype=object)"
      ]
     },
     "execution_count": 5,
     "metadata": {},
     "output_type": "execute_result"
    }
   ],
   "source": [
    "variable_names.values.flatten()"
   ]
  },
  {
   "cell_type": "code",
   "execution_count": 6,
   "id": "df95f2d9",
   "metadata": {},
   "outputs": [
    {
     "data": {
      "text/plain": [
       "Index(['age', 'workclass', 'fnlwgt', 'education', 'education-num',\n",
       "       'marital-status', 'occupation', 'relationship', 'race', 'sex',\n",
       "       'capital-gain', 'capital-loss', 'hours-per-week', 'native-country',\n",
       "       'income'],\n",
       "      dtype='object')"
      ]
     },
     "execution_count": 6,
     "metadata": {},
     "output_type": "execute_result"
    }
   ],
   "source": [
    "dataset.columns = list(variable_names.values.flatten())\n",
    "dataset.columns"
   ]
  },
  {
   "cell_type": "code",
   "execution_count": 7,
   "id": "e0f8a0a8",
   "metadata": {},
   "outputs": [
    {
     "data": {
      "text/html": [
       "<div>\n",
       "<style scoped>\n",
       "    .dataframe tbody tr th:only-of-type {\n",
       "        vertical-align: middle;\n",
       "    }\n",
       "\n",
       "    .dataframe tbody tr th {\n",
       "        vertical-align: top;\n",
       "    }\n",
       "\n",
       "    .dataframe thead th {\n",
       "        text-align: right;\n",
       "    }\n",
       "</style>\n",
       "<table border=\"1\" class=\"dataframe\">\n",
       "  <thead>\n",
       "    <tr style=\"text-align: right;\">\n",
       "      <th></th>\n",
       "      <th>age</th>\n",
       "      <th>workclass</th>\n",
       "      <th>fnlwgt</th>\n",
       "      <th>education</th>\n",
       "      <th>education-num</th>\n",
       "      <th>marital-status</th>\n",
       "      <th>occupation</th>\n",
       "      <th>relationship</th>\n",
       "      <th>race</th>\n",
       "      <th>sex</th>\n",
       "      <th>capital-gain</th>\n",
       "      <th>capital-loss</th>\n",
       "      <th>hours-per-week</th>\n",
       "      <th>native-country</th>\n",
       "      <th>income</th>\n",
       "    </tr>\n",
       "  </thead>\n",
       "  <tbody>\n",
       "    <tr>\n",
       "      <th>0</th>\n",
       "      <td>39</td>\n",
       "      <td>State-gov</td>\n",
       "      <td>77516</td>\n",
       "      <td>Bachelors</td>\n",
       "      <td>13</td>\n",
       "      <td>Never-married</td>\n",
       "      <td>Adm-clerical</td>\n",
       "      <td>Not-in-family</td>\n",
       "      <td>White</td>\n",
       "      <td>Male</td>\n",
       "      <td>2174</td>\n",
       "      <td>0</td>\n",
       "      <td>40</td>\n",
       "      <td>United-States</td>\n",
       "      <td>&lt;=50K</td>\n",
       "    </tr>\n",
       "    <tr>\n",
       "      <th>1</th>\n",
       "      <td>50</td>\n",
       "      <td>Self-emp-not-inc</td>\n",
       "      <td>83311</td>\n",
       "      <td>Bachelors</td>\n",
       "      <td>13</td>\n",
       "      <td>Married-civ-spouse</td>\n",
       "      <td>Exec-managerial</td>\n",
       "      <td>Husband</td>\n",
       "      <td>White</td>\n",
       "      <td>Male</td>\n",
       "      <td>0</td>\n",
       "      <td>0</td>\n",
       "      <td>13</td>\n",
       "      <td>United-States</td>\n",
       "      <td>&lt;=50K</td>\n",
       "    </tr>\n",
       "    <tr>\n",
       "      <th>2</th>\n",
       "      <td>38</td>\n",
       "      <td>Private</td>\n",
       "      <td>215646</td>\n",
       "      <td>HS-grad</td>\n",
       "      <td>9</td>\n",
       "      <td>Divorced</td>\n",
       "      <td>Handlers-cleaners</td>\n",
       "      <td>Not-in-family</td>\n",
       "      <td>White</td>\n",
       "      <td>Male</td>\n",
       "      <td>0</td>\n",
       "      <td>0</td>\n",
       "      <td>40</td>\n",
       "      <td>United-States</td>\n",
       "      <td>&lt;=50K</td>\n",
       "    </tr>\n",
       "    <tr>\n",
       "      <th>3</th>\n",
       "      <td>53</td>\n",
       "      <td>Private</td>\n",
       "      <td>234721</td>\n",
       "      <td>11th</td>\n",
       "      <td>7</td>\n",
       "      <td>Married-civ-spouse</td>\n",
       "      <td>Handlers-cleaners</td>\n",
       "      <td>Husband</td>\n",
       "      <td>Black</td>\n",
       "      <td>Male</td>\n",
       "      <td>0</td>\n",
       "      <td>0</td>\n",
       "      <td>40</td>\n",
       "      <td>United-States</td>\n",
       "      <td>&lt;=50K</td>\n",
       "    </tr>\n",
       "    <tr>\n",
       "      <th>4</th>\n",
       "      <td>28</td>\n",
       "      <td>Private</td>\n",
       "      <td>338409</td>\n",
       "      <td>Bachelors</td>\n",
       "      <td>13</td>\n",
       "      <td>Married-civ-spouse</td>\n",
       "      <td>Prof-specialty</td>\n",
       "      <td>Wife</td>\n",
       "      <td>Black</td>\n",
       "      <td>Female</td>\n",
       "      <td>0</td>\n",
       "      <td>0</td>\n",
       "      <td>40</td>\n",
       "      <td>Cuba</td>\n",
       "      <td>&lt;=50K</td>\n",
       "    </tr>\n",
       "  </tbody>\n",
       "</table>\n",
       "</div>"
      ],
      "text/plain": [
       "   age          workclass  fnlwgt   education  education-num  \\\n",
       "0   39          State-gov   77516   Bachelors             13   \n",
       "1   50   Self-emp-not-inc   83311   Bachelors             13   \n",
       "2   38            Private  215646     HS-grad              9   \n",
       "3   53            Private  234721        11th              7   \n",
       "4   28            Private  338409   Bachelors             13   \n",
       "\n",
       "        marital-status          occupation    relationship    race      sex  \\\n",
       "0        Never-married        Adm-clerical   Not-in-family   White     Male   \n",
       "1   Married-civ-spouse     Exec-managerial         Husband   White     Male   \n",
       "2             Divorced   Handlers-cleaners   Not-in-family   White     Male   \n",
       "3   Married-civ-spouse   Handlers-cleaners         Husband   Black     Male   \n",
       "4   Married-civ-spouse      Prof-specialty            Wife   Black   Female   \n",
       "\n",
       "   capital-gain  capital-loss  hours-per-week  native-country  income  \n",
       "0          2174             0              40   United-States   <=50K  \n",
       "1             0             0              13   United-States   <=50K  \n",
       "2             0             0              40   United-States   <=50K  \n",
       "3             0             0              40   United-States   <=50K  \n",
       "4             0             0              40            Cuba   <=50K  "
      ]
     },
     "execution_count": 7,
     "metadata": {},
     "output_type": "execute_result"
    }
   ],
   "source": [
    "dataset.head()"
   ]
  },
  {
   "cell_type": "code",
   "execution_count": 8,
   "id": "122467c3",
   "metadata": {},
   "outputs": [
    {
     "data": {
      "text/html": [
       "<div>\n",
       "<style scoped>\n",
       "    .dataframe tbody tr th:only-of-type {\n",
       "        vertical-align: middle;\n",
       "    }\n",
       "\n",
       "    .dataframe tbody tr th {\n",
       "        vertical-align: top;\n",
       "    }\n",
       "\n",
       "    .dataframe thead th {\n",
       "        text-align: right;\n",
       "    }\n",
       "</style>\n",
       "<table border=\"1\" class=\"dataframe\">\n",
       "  <thead>\n",
       "    <tr style=\"text-align: right;\">\n",
       "      <th></th>\n",
       "      <th>age</th>\n",
       "      <th>sex</th>\n",
       "      <th>education</th>\n",
       "      <th>marital-status</th>\n",
       "      <th>occupation</th>\n",
       "      <th>hours-per-week</th>\n",
       "      <th>workclass</th>\n",
       "      <th>income</th>\n",
       "    </tr>\n",
       "  </thead>\n",
       "  <tbody>\n",
       "    <tr>\n",
       "      <th>0</th>\n",
       "      <td>39</td>\n",
       "      <td>Male</td>\n",
       "      <td>Bachelors</td>\n",
       "      <td>Never-married</td>\n",
       "      <td>Adm-clerical</td>\n",
       "      <td>40</td>\n",
       "      <td>State-gov</td>\n",
       "      <td>&lt;=50K</td>\n",
       "    </tr>\n",
       "    <tr>\n",
       "      <th>1</th>\n",
       "      <td>50</td>\n",
       "      <td>Male</td>\n",
       "      <td>Bachelors</td>\n",
       "      <td>Married-civ-spouse</td>\n",
       "      <td>Exec-managerial</td>\n",
       "      <td>13</td>\n",
       "      <td>Self-emp-not-inc</td>\n",
       "      <td>&lt;=50K</td>\n",
       "    </tr>\n",
       "    <tr>\n",
       "      <th>2</th>\n",
       "      <td>38</td>\n",
       "      <td>Male</td>\n",
       "      <td>HS-grad</td>\n",
       "      <td>Divorced</td>\n",
       "      <td>Handlers-cleaners</td>\n",
       "      <td>40</td>\n",
       "      <td>Private</td>\n",
       "      <td>&lt;=50K</td>\n",
       "    </tr>\n",
       "    <tr>\n",
       "      <th>3</th>\n",
       "      <td>53</td>\n",
       "      <td>Male</td>\n",
       "      <td>11th</td>\n",
       "      <td>Married-civ-spouse</td>\n",
       "      <td>Handlers-cleaners</td>\n",
       "      <td>40</td>\n",
       "      <td>Private</td>\n",
       "      <td>&lt;=50K</td>\n",
       "    </tr>\n",
       "    <tr>\n",
       "      <th>4</th>\n",
       "      <td>28</td>\n",
       "      <td>Female</td>\n",
       "      <td>Bachelors</td>\n",
       "      <td>Married-civ-spouse</td>\n",
       "      <td>Prof-specialty</td>\n",
       "      <td>40</td>\n",
       "      <td>Private</td>\n",
       "      <td>&lt;=50K</td>\n",
       "    </tr>\n",
       "  </tbody>\n",
       "</table>\n",
       "</div>"
      ],
      "text/plain": [
       "   age      sex   education       marital-status          occupation  \\\n",
       "0   39     Male   Bachelors        Never-married        Adm-clerical   \n",
       "1   50     Male   Bachelors   Married-civ-spouse     Exec-managerial   \n",
       "2   38     Male     HS-grad             Divorced   Handlers-cleaners   \n",
       "3   53     Male        11th   Married-civ-spouse   Handlers-cleaners   \n",
       "4   28   Female   Bachelors   Married-civ-spouse      Prof-specialty   \n",
       "\n",
       "   hours-per-week          workclass  income  \n",
       "0              40          State-gov   <=50K  \n",
       "1              13   Self-emp-not-inc   <=50K  \n",
       "2              40            Private   <=50K  \n",
       "3              40            Private   <=50K  \n",
       "4              40            Private   <=50K  "
      ]
     },
     "execution_count": 8,
     "metadata": {},
     "output_type": "execute_result"
    }
   ],
   "source": [
    "refined_dataset = dataset[['age', 'sex', 'education', 'marital-status', 'occupation', 'hours-per-week', 'workclass', 'income']]\n",
    "refined_dataset.head()"
   ]
  },
  {
   "cell_type": "code",
   "execution_count": 9,
   "id": "15bc907d",
   "metadata": {},
   "outputs": [
    {
     "data": {
      "text/plain": [
       "(32561, 8)"
      ]
     },
     "execution_count": 9,
     "metadata": {},
     "output_type": "execute_result"
    }
   ],
   "source": [
    "# dataset size\n",
    "refined_dataset.shape"
   ]
  },
  {
   "cell_type": "markdown",
   "id": "206f09db",
   "metadata": {},
   "source": [
    "### 2.3 Data cleaning and processing "
   ]
  },
  {
   "cell_type": "markdown",
   "id": "bddd9307",
   "metadata": {},
   "source": [
    "#### Null values"
   ]
  },
  {
   "cell_type": "code",
   "execution_count": 10,
   "id": "18b1d1c7",
   "metadata": {},
   "outputs": [
    {
     "data": {
      "text/plain": [
       "age               0\n",
       "sex               0\n",
       "education         0\n",
       "marital-status    0\n",
       "occupation        0\n",
       "hours-per-week    0\n",
       "workclass         0\n",
       "income            0\n",
       "dtype: int64"
      ]
     },
     "execution_count": 10,
     "metadata": {},
     "output_type": "execute_result"
    }
   ],
   "source": [
    "refined_dataset.isna().sum()"
   ]
  },
  {
   "cell_type": "markdown",
   "id": "36a5039a",
   "metadata": {},
   "source": [
    "From the first glance, the dataset does not conatain missing values in any column. Be carefull, there may be some mising values recorded in some other manner (other than np.nan). We can discover that by printing the unique values of each column, especially categorical variable. "
   ]
  },
  {
   "cell_type": "code",
   "execution_count": 11,
   "id": "c9b4f72f",
   "metadata": {},
   "outputs": [
    {
     "name": "stdout",
     "output_type": "stream",
     "text": [
      "==================== age ==================\n",
      "[39 50 38 53 28 37 49 52 31 42 30 23 32 40 34 25 43 54 35 59 56 19 20 45\n",
      " 22 48 21 24 57 44 41 29 18 47 46 36 79 27 67 33 76 17 55 61 70 64 71 68\n",
      " 66 51 58 26 60 90 75 65 77 62 63 80 72 74 69 73 81 78 88 82 83 84 85 86\n",
      " 87]\n",
      "==================== sex ==================\n",
      "[' Male' ' Female']\n",
      "==================== education ==================\n",
      "[' Bachelors' ' HS-grad' ' 11th' ' Masters' ' 9th' ' Some-college'\n",
      " ' Assoc-acdm' ' Assoc-voc' ' 7th-8th' ' Doctorate' ' Prof-school'\n",
      " ' 5th-6th' ' 10th' ' 1st-4th' ' Preschool' ' 12th']\n",
      "==================== marital-status ==================\n",
      "[' Never-married' ' Married-civ-spouse' ' Divorced'\n",
      " ' Married-spouse-absent' ' Separated' ' Married-AF-spouse' ' Widowed']\n",
      "==================== occupation ==================\n",
      "[' Adm-clerical' ' Exec-managerial' ' Handlers-cleaners' ' Prof-specialty'\n",
      " ' Other-service' ' Sales' ' Craft-repair' ' Transport-moving'\n",
      " ' Farming-fishing' ' Machine-op-inspct' ' Tech-support' ' ?'\n",
      " ' Protective-serv' ' Armed-Forces' ' Priv-house-serv']\n",
      "==================== hours-per-week ==================\n",
      "[40 13 16 45 50 80 30 35 60 20 52 44 15 25 38 43 55 48 58 32 70  2 22 56\n",
      " 41 28 36 24 46 42 12 65  1 10 34 75 98 33 54  8  6 64 19 18 72  5  9 47\n",
      " 37 21 26 14  4 59  7 99 53 39 62 57 78 90 66 11 49 84  3 17 68 27 85 31\n",
      " 51 77 63 23 87 88 73 89 97 94 29 96 67 82 86 91 81 76 92 61 74 95]\n",
      "==================== workclass ==================\n",
      "[' State-gov' ' Self-emp-not-inc' ' Private' ' Federal-gov' ' Local-gov'\n",
      " ' ?' ' Self-emp-inc' ' Without-pay' ' Never-worked']\n",
      "==================== income ==================\n",
      "[' <=50K' ' >50K']\n"
     ]
    }
   ],
   "source": [
    "for col in refined_dataset.columns:\n",
    "    print(f'==================== {col} ==================')\n",
    "    print(refined_dataset[col].unique())"
   ]
  },
  {
   "cell_type": "code",
   "execution_count": 12,
   "id": "577034db",
   "metadata": {},
   "outputs": [],
   "source": [
    "def replace_null(x):\n",
    "    x = x.strip()\n",
    "    if x == '?':\n",
    "        return np.nan\n",
    "    else:\n",
    "        return x\n",
    "\n",
    "for col in ['occupation', 'workclass']:\n",
    "    refined_dataset[col] = refined_dataset[col].apply(replace_null)"
   ]
  },
  {
   "cell_type": "code",
   "execution_count": 13,
   "id": "ed434942",
   "metadata": {},
   "outputs": [],
   "source": [
    "refined_dataset.dropna(axis = 0, inplace = True)\n",
    "refined_dataset.reset_index(inplace = True, drop = True)"
   ]
  },
  {
   "cell_type": "code",
   "execution_count": 14,
   "id": "29c1a7e0",
   "metadata": {},
   "outputs": [
    {
     "name": "stdout",
     "output_type": "stream",
     "text": [
      "==================== occupation ==================\n",
      "['Adm-clerical' 'Exec-managerial' 'Handlers-cleaners' 'Prof-specialty'\n",
      " 'Other-service' 'Sales' 'Craft-repair' 'Transport-moving'\n",
      " 'Farming-fishing' 'Machine-op-inspct' 'Tech-support' 'Protective-serv'\n",
      " 'Armed-Forces' 'Priv-house-serv']\n",
      "==================== workclass ==================\n",
      "['State-gov' 'Self-emp-not-inc' 'Private' 'Federal-gov' 'Local-gov'\n",
      " 'Self-emp-inc' 'Without-pay']\n"
     ]
    }
   ],
   "source": [
    "for col in ['occupation', 'workclass']:\n",
    "    print(f'==================== {col} ==================')\n",
    "    print(refined_dataset[col].unique())"
   ]
  },
  {
   "cell_type": "markdown",
   "id": "ab287030",
   "metadata": {},
   "source": [
    "#### Describe numberical variables"
   ]
  },
  {
   "cell_type": "code",
   "execution_count": 15,
   "id": "fe1ee269",
   "metadata": {},
   "outputs": [
    {
     "data": {
      "text/html": [
       "<div>\n",
       "<style scoped>\n",
       "    .dataframe tbody tr th:only-of-type {\n",
       "        vertical-align: middle;\n",
       "    }\n",
       "\n",
       "    .dataframe tbody tr th {\n",
       "        vertical-align: top;\n",
       "    }\n",
       "\n",
       "    .dataframe thead th {\n",
       "        text-align: right;\n",
       "    }\n",
       "</style>\n",
       "<table border=\"1\" class=\"dataframe\">\n",
       "  <thead>\n",
       "    <tr style=\"text-align: right;\">\n",
       "      <th></th>\n",
       "      <th>age</th>\n",
       "      <th>hours-per-week</th>\n",
       "    </tr>\n",
       "  </thead>\n",
       "  <tbody>\n",
       "    <tr>\n",
       "      <th>count</th>\n",
       "      <td>30718.000000</td>\n",
       "      <td>30718.000000</td>\n",
       "    </tr>\n",
       "    <tr>\n",
       "      <th>mean</th>\n",
       "      <td>38.443584</td>\n",
       "      <td>40.949313</td>\n",
       "    </tr>\n",
       "    <tr>\n",
       "      <th>std</th>\n",
       "      <td>13.118227</td>\n",
       "      <td>11.985382</td>\n",
       "    </tr>\n",
       "    <tr>\n",
       "      <th>min</th>\n",
       "      <td>17.000000</td>\n",
       "      <td>1.000000</td>\n",
       "    </tr>\n",
       "    <tr>\n",
       "      <th>25%</th>\n",
       "      <td>28.000000</td>\n",
       "      <td>40.000000</td>\n",
       "    </tr>\n",
       "    <tr>\n",
       "      <th>50%</th>\n",
       "      <td>37.000000</td>\n",
       "      <td>40.000000</td>\n",
       "    </tr>\n",
       "    <tr>\n",
       "      <th>75%</th>\n",
       "      <td>47.000000</td>\n",
       "      <td>45.000000</td>\n",
       "    </tr>\n",
       "    <tr>\n",
       "      <th>max</th>\n",
       "      <td>90.000000</td>\n",
       "      <td>99.000000</td>\n",
       "    </tr>\n",
       "  </tbody>\n",
       "</table>\n",
       "</div>"
      ],
      "text/plain": [
       "                age  hours-per-week\n",
       "count  30718.000000    30718.000000\n",
       "mean      38.443584       40.949313\n",
       "std       13.118227       11.985382\n",
       "min       17.000000        1.000000\n",
       "25%       28.000000       40.000000\n",
       "50%       37.000000       40.000000\n",
       "75%       47.000000       45.000000\n",
       "max       90.000000       99.000000"
      ]
     },
     "execution_count": 15,
     "metadata": {},
     "output_type": "execute_result"
    }
   ],
   "source": [
    "refined_dataset.describe()"
   ]
  },
  {
   "cell_type": "code",
   "execution_count": 16,
   "id": "041af4dc",
   "metadata": {},
   "outputs": [],
   "source": [
    "Q1 = refined_dataset['hours-per-week'].quantile(0.25)"
   ]
  },
  {
   "cell_type": "code",
   "execution_count": 17,
   "id": "43e3716a",
   "metadata": {},
   "outputs": [],
   "source": [
    "Q3 = refined_dataset['hours-per-week'].quantile(0.75)"
   ]
  },
  {
   "cell_type": "code",
   "execution_count": 18,
   "id": "644eeb9d",
   "metadata": {},
   "outputs": [
    {
     "data": {
      "text/plain": [
       "5.0"
      ]
     },
     "execution_count": 18,
     "metadata": {},
     "output_type": "execute_result"
    }
   ],
   "source": [
    "iqr = Q3-Q1\n",
    "iqr"
   ]
  },
  {
   "cell_type": "code",
   "execution_count": 19,
   "id": "b46d19de",
   "metadata": {},
   "outputs": [],
   "source": [
    "hours_avg = refined_dataset['hours-per-week'].mean()"
   ]
  },
  {
   "cell_type": "code",
   "execution_count": 20,
   "id": "d0201f4e",
   "metadata": {},
   "outputs": [
    {
     "data": {
      "text/plain": [
       "2657"
      ]
     },
     "execution_count": 20,
     "metadata": {},
     "output_type": "execute_result"
    }
   ],
   "source": [
    "# let us get a sense of how many rows are above or equal (avg + 3 * iqr)\n",
    "sum(refined_dataset['hours-per-week'] >= (hours_avg + 3 * iqr))"
   ]
  },
  {
   "cell_type": "code",
   "execution_count": 21,
   "id": "7d6672e6",
   "metadata": {},
   "outputs": [
    {
     "data": {
      "text/plain": [
       "3307"
      ]
     },
     "execution_count": 21,
     "metadata": {},
     "output_type": "execute_result"
    }
   ],
   "source": [
    "# let us get a sense of how many rows are less than or equal (avg - 3 * iqr)\n",
    "sum(refined_dataset['hours-per-week'] <= (hours_avg - 3 * iqr))"
   ]
  },
  {
   "cell_type": "code",
   "execution_count": 22,
   "id": "303c10a7",
   "metadata": {},
   "outputs": [
    {
     "data": {
      "text/plain": [
       "(30718, 8)"
      ]
     },
     "execution_count": 22,
     "metadata": {},
     "output_type": "execute_result"
    }
   ],
   "source": [
    "refined_dataset.shape"
   ]
  },
  {
   "cell_type": "markdown",
   "id": "584ab87e",
   "metadata": {},
   "source": [
    "Let us keep this in minde. We don`t want to remove the outliers from the left side. They may have a meaning in this context. Some people do not work at all (small number is expected). For the right side, let us limit the work hours to not more than 60 hours. "
   ]
  },
  {
   "cell_type": "code",
   "execution_count": 23,
   "id": "f1e1a8e3",
   "metadata": {},
   "outputs": [],
   "source": [
    "refined_dataset =  refined_dataset[refined_dataset['hours-per-week'] <= 60]"
   ]
  },
  {
   "cell_type": "code",
   "execution_count": 24,
   "id": "4bea1325",
   "metadata": {},
   "outputs": [
    {
     "data": {
      "text/plain": [
       "count    29642.000000\n",
       "mean        39.737467\n",
       "std         10.155192\n",
       "min          1.000000\n",
       "25%         40.000000\n",
       "50%         40.000000\n",
       "75%         45.000000\n",
       "max         60.000000\n",
       "Name: hours-per-week, dtype: float64"
      ]
     },
     "execution_count": 24,
     "metadata": {},
     "output_type": "execute_result"
    }
   ],
   "source": [
    "refined_dataset['hours-per-week'].describe()"
   ]
  },
  {
   "cell_type": "markdown",
   "id": "06d023a4",
   "metadata": {},
   "source": [
    "#### Categorical variables encoding "
   ]
  },
  {
   "cell_type": "code",
   "execution_count": 25,
   "id": "f53d3225",
   "metadata": {},
   "outputs": [],
   "source": [
    "pd.options.mode.chained_assignment = None"
   ]
  },
  {
   "cell_type": "code",
   "execution_count": 26,
   "id": "98bf66f8",
   "metadata": {},
   "outputs": [],
   "source": [
    "# sex ==> male 1; 0 for female\n",
    "def is_male(x):\n",
    "    x = x.strip()\n",
    "    if x == 'Male':\n",
    "        return 1\n",
    "    else:\n",
    "        return 0"
   ]
  },
  {
   "cell_type": "code",
   "execution_count": 27,
   "id": "cee65474",
   "metadata": {},
   "outputs": [
    {
     "data": {
      "text/plain": [
       "array([1, 0], dtype=object)"
      ]
     },
     "execution_count": 27,
     "metadata": {},
     "output_type": "execute_result"
    }
   ],
   "source": [
    "refined_dataset['sex'].loc[:] =  refined_dataset['sex'].apply(is_male)  # 1 for Male 0 for other\n",
    "refined_dataset['sex'].unique()"
   ]
  },
  {
   "cell_type": "code",
   "execution_count": 28,
   "id": "a31e7dd6",
   "metadata": {},
   "outputs": [
    {
     "data": {
      "text/plain": [
       "array([' Never-married', ' Married-civ-spouse', ' Divorced',\n",
       "       ' Married-spouse-absent', ' Separated', ' Married-AF-spouse',\n",
       "       ' Widowed'], dtype=object)"
      ]
     },
     "execution_count": 28,
     "metadata": {},
     "output_type": "execute_result"
    }
   ],
   "source": [
    "# marital status ==> maried or not (1 or 0)\n",
    "refined_dataset['marital-status'].unique()"
   ]
  },
  {
   "cell_type": "code",
   "execution_count": 29,
   "id": "fc8197c3",
   "metadata": {},
   "outputs": [],
   "source": [
    "def is_married(x):\n",
    "    x = x.strip()\n",
    "    if x in ('Married-civ-spouse', 'Married-spouse-absent', 'Married-AF-spouse'):\n",
    "        return 1\n",
    "    else:\n",
    "        return 0"
   ]
  },
  {
   "cell_type": "code",
   "execution_count": 30,
   "id": "44943e24",
   "metadata": {},
   "outputs": [
    {
     "data": {
      "text/plain": [
       "array([0, 1], dtype=int64)"
      ]
     },
     "execution_count": 30,
     "metadata": {},
     "output_type": "execute_result"
    }
   ],
   "source": [
    "refined_dataset['Is Married?'] = refined_dataset['marital-status'].apply(is_married)\n",
    "refined_dataset['Is Married?'].unique()"
   ]
  },
  {
   "cell_type": "code",
   "execution_count": 31,
   "id": "774641e6",
   "metadata": {},
   "outputs": [],
   "source": [
    "refined_dataset.drop('marital-status', axis = 1, inplace = True)  #remove old feature"
   ]
  },
  {
   "cell_type": "code",
   "execution_count": 32,
   "id": "db32d591",
   "metadata": {},
   "outputs": [
    {
     "data": {
      "text/plain": [
       "array([' <=50K', ' >50K'], dtype=object)"
      ]
     },
     "execution_count": 32,
     "metadata": {},
     "output_type": "execute_result"
    }
   ],
   "source": [
    "# income ==> >50K and <=50K (1 and 0, respectively)\n",
    "refined_dataset['income'].unique()"
   ]
  },
  {
   "cell_type": "code",
   "execution_count": 33,
   "id": "f5b670cd",
   "metadata": {},
   "outputs": [],
   "source": [
    "def is_larger_than_50K(x):\n",
    "    x = x.strip()\n",
    "    if x == '>50K':\n",
    "        return 1\n",
    "    else:\n",
    "        return 0"
   ]
  },
  {
   "cell_type": "code",
   "execution_count": 34,
   "id": "d15a248e",
   "metadata": {},
   "outputs": [
    {
     "data": {
      "text/plain": [
       "array([0, 1], dtype=int64)"
      ]
     },
     "execution_count": 34,
     "metadata": {},
     "output_type": "execute_result"
    }
   ],
   "source": [
    "refined_dataset['income'] = refined_dataset['income'].apply(is_larger_than_50K)\n",
    "refined_dataset['income'].unique()"
   ]
  },
  {
   "cell_type": "code",
   "execution_count": 35,
   "id": "264a2ce6",
   "metadata": {},
   "outputs": [
    {
     "data": {
      "text/html": [
       "<div>\n",
       "<style scoped>\n",
       "    .dataframe tbody tr th:only-of-type {\n",
       "        vertical-align: middle;\n",
       "    }\n",
       "\n",
       "    .dataframe tbody tr th {\n",
       "        vertical-align: top;\n",
       "    }\n",
       "\n",
       "    .dataframe thead th {\n",
       "        text-align: right;\n",
       "    }\n",
       "</style>\n",
       "<table border=\"1\" class=\"dataframe\">\n",
       "  <thead>\n",
       "    <tr style=\"text-align: right;\">\n",
       "      <th></th>\n",
       "      <th>age</th>\n",
       "      <th>sex</th>\n",
       "      <th>education</th>\n",
       "      <th>occupation</th>\n",
       "      <th>hours-per-week</th>\n",
       "      <th>workclass</th>\n",
       "      <th>income</th>\n",
       "      <th>Is Married?</th>\n",
       "    </tr>\n",
       "  </thead>\n",
       "  <tbody>\n",
       "    <tr>\n",
       "      <th>0</th>\n",
       "      <td>39</td>\n",
       "      <td>1</td>\n",
       "      <td>Bachelors</td>\n",
       "      <td>Adm-clerical</td>\n",
       "      <td>40</td>\n",
       "      <td>State-gov</td>\n",
       "      <td>0</td>\n",
       "      <td>0</td>\n",
       "    </tr>\n",
       "    <tr>\n",
       "      <th>1</th>\n",
       "      <td>50</td>\n",
       "      <td>1</td>\n",
       "      <td>Bachelors</td>\n",
       "      <td>Exec-managerial</td>\n",
       "      <td>13</td>\n",
       "      <td>Self-emp-not-inc</td>\n",
       "      <td>0</td>\n",
       "      <td>1</td>\n",
       "    </tr>\n",
       "    <tr>\n",
       "      <th>2</th>\n",
       "      <td>38</td>\n",
       "      <td>1</td>\n",
       "      <td>HS-grad</td>\n",
       "      <td>Handlers-cleaners</td>\n",
       "      <td>40</td>\n",
       "      <td>Private</td>\n",
       "      <td>0</td>\n",
       "      <td>0</td>\n",
       "    </tr>\n",
       "    <tr>\n",
       "      <th>3</th>\n",
       "      <td>53</td>\n",
       "      <td>1</td>\n",
       "      <td>11th</td>\n",
       "      <td>Handlers-cleaners</td>\n",
       "      <td>40</td>\n",
       "      <td>Private</td>\n",
       "      <td>0</td>\n",
       "      <td>1</td>\n",
       "    </tr>\n",
       "    <tr>\n",
       "      <th>4</th>\n",
       "      <td>28</td>\n",
       "      <td>0</td>\n",
       "      <td>Bachelors</td>\n",
       "      <td>Prof-specialty</td>\n",
       "      <td>40</td>\n",
       "      <td>Private</td>\n",
       "      <td>0</td>\n",
       "      <td>1</td>\n",
       "    </tr>\n",
       "  </tbody>\n",
       "</table>\n",
       "</div>"
      ],
      "text/plain": [
       "   age sex   education         occupation  hours-per-week         workclass  \\\n",
       "0   39   1   Bachelors       Adm-clerical              40         State-gov   \n",
       "1   50   1   Bachelors    Exec-managerial              13  Self-emp-not-inc   \n",
       "2   38   1     HS-grad  Handlers-cleaners              40           Private   \n",
       "3   53   1        11th  Handlers-cleaners              40           Private   \n",
       "4   28   0   Bachelors     Prof-specialty              40           Private   \n",
       "\n",
       "   income  Is Married?  \n",
       "0       0            0  \n",
       "1       0            1  \n",
       "2       0            0  \n",
       "3       0            1  \n",
       "4       0            1  "
      ]
     },
     "execution_count": 35,
     "metadata": {},
     "output_type": "execute_result"
    }
   ],
   "source": [
    "# Create dummpy variables for all other variables\n",
    "refined_dataset.head()"
   ]
  },
  {
   "cell_type": "code",
   "execution_count": 36,
   "id": "e12e4008",
   "metadata": {},
   "outputs": [
    {
     "name": "stdout",
     "output_type": "stream",
     "text": [
      "age ----> int64\n",
      "sex ----> object\n",
      "education ----> object\n",
      "occupation ----> object\n",
      "hours-per-week ----> int64\n",
      "workclass ----> object\n",
      "income ----> int64\n",
      "Is Married? ----> int64\n"
     ]
    }
   ],
   "source": [
    "for col in refined_dataset.columns:\n",
    "    print(f'{col} ----> {refined_dataset[col].dtype}')"
   ]
  },
  {
   "cell_type": "code",
   "execution_count": 37,
   "id": "1acf8892",
   "metadata": {},
   "outputs": [],
   "source": [
    "refined_dataset['sex'] = refined_dataset['sex'].astype('int64')"
   ]
  },
  {
   "cell_type": "code",
   "execution_count": 38,
   "id": "a5c8c15d",
   "metadata": {},
   "outputs": [
    {
     "data": {
      "text/plain": [
       "dtype('int64')"
      ]
     },
     "execution_count": 38,
     "metadata": {},
     "output_type": "execute_result"
    }
   ],
   "source": [
    "refined_dataset['sex'].dtype"
   ]
  },
  {
   "cell_type": "code",
   "execution_count": 39,
   "id": "bcad842a",
   "metadata": {},
   "outputs": [
    {
     "data": {
      "text/html": [
       "<div>\n",
       "<style scoped>\n",
       "    .dataframe tbody tr th:only-of-type {\n",
       "        vertical-align: middle;\n",
       "    }\n",
       "\n",
       "    .dataframe tbody tr th {\n",
       "        vertical-align: top;\n",
       "    }\n",
       "\n",
       "    .dataframe thead th {\n",
       "        text-align: right;\n",
       "    }\n",
       "</style>\n",
       "<table border=\"1\" class=\"dataframe\">\n",
       "  <thead>\n",
       "    <tr style=\"text-align: right;\">\n",
       "      <th></th>\n",
       "      <th>age</th>\n",
       "      <th>sex</th>\n",
       "      <th>hours-per-week</th>\n",
       "      <th>income</th>\n",
       "      <th>Is Married?</th>\n",
       "      <th>education_ 10th</th>\n",
       "      <th>education_ 11th</th>\n",
       "      <th>education_ 12th</th>\n",
       "      <th>education_ 1st-4th</th>\n",
       "      <th>education_ 5th-6th</th>\n",
       "      <th>...</th>\n",
       "      <th>occupation_Sales</th>\n",
       "      <th>occupation_Tech-support</th>\n",
       "      <th>occupation_Transport-moving</th>\n",
       "      <th>workclass_Federal-gov</th>\n",
       "      <th>workclass_Local-gov</th>\n",
       "      <th>workclass_Private</th>\n",
       "      <th>workclass_Self-emp-inc</th>\n",
       "      <th>workclass_Self-emp-not-inc</th>\n",
       "      <th>workclass_State-gov</th>\n",
       "      <th>workclass_Without-pay</th>\n",
       "    </tr>\n",
       "  </thead>\n",
       "  <tbody>\n",
       "    <tr>\n",
       "      <th>0</th>\n",
       "      <td>39</td>\n",
       "      <td>1</td>\n",
       "      <td>40</td>\n",
       "      <td>0</td>\n",
       "      <td>0</td>\n",
       "      <td>0</td>\n",
       "      <td>0</td>\n",
       "      <td>0</td>\n",
       "      <td>0</td>\n",
       "      <td>0</td>\n",
       "      <td>...</td>\n",
       "      <td>0</td>\n",
       "      <td>0</td>\n",
       "      <td>0</td>\n",
       "      <td>0</td>\n",
       "      <td>0</td>\n",
       "      <td>0</td>\n",
       "      <td>0</td>\n",
       "      <td>0</td>\n",
       "      <td>1</td>\n",
       "      <td>0</td>\n",
       "    </tr>\n",
       "    <tr>\n",
       "      <th>1</th>\n",
       "      <td>50</td>\n",
       "      <td>1</td>\n",
       "      <td>13</td>\n",
       "      <td>0</td>\n",
       "      <td>1</td>\n",
       "      <td>0</td>\n",
       "      <td>0</td>\n",
       "      <td>0</td>\n",
       "      <td>0</td>\n",
       "      <td>0</td>\n",
       "      <td>...</td>\n",
       "      <td>0</td>\n",
       "      <td>0</td>\n",
       "      <td>0</td>\n",
       "      <td>0</td>\n",
       "      <td>0</td>\n",
       "      <td>0</td>\n",
       "      <td>0</td>\n",
       "      <td>1</td>\n",
       "      <td>0</td>\n",
       "      <td>0</td>\n",
       "    </tr>\n",
       "    <tr>\n",
       "      <th>2</th>\n",
       "      <td>38</td>\n",
       "      <td>1</td>\n",
       "      <td>40</td>\n",
       "      <td>0</td>\n",
       "      <td>0</td>\n",
       "      <td>0</td>\n",
       "      <td>0</td>\n",
       "      <td>0</td>\n",
       "      <td>0</td>\n",
       "      <td>0</td>\n",
       "      <td>...</td>\n",
       "      <td>0</td>\n",
       "      <td>0</td>\n",
       "      <td>0</td>\n",
       "      <td>0</td>\n",
       "      <td>0</td>\n",
       "      <td>1</td>\n",
       "      <td>0</td>\n",
       "      <td>0</td>\n",
       "      <td>0</td>\n",
       "      <td>0</td>\n",
       "    </tr>\n",
       "    <tr>\n",
       "      <th>3</th>\n",
       "      <td>53</td>\n",
       "      <td>1</td>\n",
       "      <td>40</td>\n",
       "      <td>0</td>\n",
       "      <td>1</td>\n",
       "      <td>0</td>\n",
       "      <td>1</td>\n",
       "      <td>0</td>\n",
       "      <td>0</td>\n",
       "      <td>0</td>\n",
       "      <td>...</td>\n",
       "      <td>0</td>\n",
       "      <td>0</td>\n",
       "      <td>0</td>\n",
       "      <td>0</td>\n",
       "      <td>0</td>\n",
       "      <td>1</td>\n",
       "      <td>0</td>\n",
       "      <td>0</td>\n",
       "      <td>0</td>\n",
       "      <td>0</td>\n",
       "    </tr>\n",
       "    <tr>\n",
       "      <th>4</th>\n",
       "      <td>28</td>\n",
       "      <td>0</td>\n",
       "      <td>40</td>\n",
       "      <td>0</td>\n",
       "      <td>1</td>\n",
       "      <td>0</td>\n",
       "      <td>0</td>\n",
       "      <td>0</td>\n",
       "      <td>0</td>\n",
       "      <td>0</td>\n",
       "      <td>...</td>\n",
       "      <td>0</td>\n",
       "      <td>0</td>\n",
       "      <td>0</td>\n",
       "      <td>0</td>\n",
       "      <td>0</td>\n",
       "      <td>1</td>\n",
       "      <td>0</td>\n",
       "      <td>0</td>\n",
       "      <td>0</td>\n",
       "      <td>0</td>\n",
       "    </tr>\n",
       "  </tbody>\n",
       "</table>\n",
       "<p>5 rows × 42 columns</p>\n",
       "</div>"
      ],
      "text/plain": [
       "   age  sex  hours-per-week  income  Is Married?  education_ 10th  \\\n",
       "0   39    1              40       0            0                0   \n",
       "1   50    1              13       0            1                0   \n",
       "2   38    1              40       0            0                0   \n",
       "3   53    1              40       0            1                0   \n",
       "4   28    0              40       0            1                0   \n",
       "\n",
       "   education_ 11th  education_ 12th  education_ 1st-4th  education_ 5th-6th  \\\n",
       "0                0                0                   0                   0   \n",
       "1                0                0                   0                   0   \n",
       "2                0                0                   0                   0   \n",
       "3                1                0                   0                   0   \n",
       "4                0                0                   0                   0   \n",
       "\n",
       "   ...  occupation_Sales  occupation_Tech-support  \\\n",
       "0  ...                 0                        0   \n",
       "1  ...                 0                        0   \n",
       "2  ...                 0                        0   \n",
       "3  ...                 0                        0   \n",
       "4  ...                 0                        0   \n",
       "\n",
       "   occupation_Transport-moving  workclass_Federal-gov  workclass_Local-gov  \\\n",
       "0                            0                      0                    0   \n",
       "1                            0                      0                    0   \n",
       "2                            0                      0                    0   \n",
       "3                            0                      0                    0   \n",
       "4                            0                      0                    0   \n",
       "\n",
       "   workclass_Private  workclass_Self-emp-inc  workclass_Self-emp-not-inc  \\\n",
       "0                  0                       0                           0   \n",
       "1                  0                       0                           1   \n",
       "2                  1                       0                           0   \n",
       "3                  1                       0                           0   \n",
       "4                  1                       0                           0   \n",
       "\n",
       "   workclass_State-gov  workclass_Without-pay  \n",
       "0                    1                      0  \n",
       "1                    0                      0  \n",
       "2                    0                      0  \n",
       "3                    0                      0  \n",
       "4                    0                      0  \n",
       "\n",
       "[5 rows x 42 columns]"
      ]
     },
     "execution_count": 39,
     "metadata": {},
     "output_type": "execute_result"
    }
   ],
   "source": [
    "# create dummpy variables\n",
    "encoded_dataset = pd.get_dummies(refined_dataset)\n",
    "\n",
    "encoded_dataset.head()"
   ]
  },
  {
   "cell_type": "markdown",
   "id": "f2185a79",
   "metadata": {},
   "source": [
    "### 2.4 Analyze data "
   ]
  },
  {
   "cell_type": "code",
   "execution_count": 40,
   "id": "9dd1dcff",
   "metadata": {},
   "outputs": [
    {
     "data": {
      "text/html": [
       "<div>\n",
       "<style scoped>\n",
       "    .dataframe tbody tr th:only-of-type {\n",
       "        vertical-align: middle;\n",
       "    }\n",
       "\n",
       "    .dataframe tbody tr th {\n",
       "        vertical-align: top;\n",
       "    }\n",
       "\n",
       "    .dataframe thead th {\n",
       "        text-align: right;\n",
       "    }\n",
       "</style>\n",
       "<table border=\"1\" class=\"dataframe\">\n",
       "  <thead>\n",
       "    <tr style=\"text-align: right;\">\n",
       "      <th></th>\n",
       "      <th>age</th>\n",
       "      <th>sex</th>\n",
       "      <th>education</th>\n",
       "      <th>occupation</th>\n",
       "      <th>hours-per-week</th>\n",
       "      <th>workclass</th>\n",
       "      <th>income</th>\n",
       "      <th>Is Married?</th>\n",
       "    </tr>\n",
       "  </thead>\n",
       "  <tbody>\n",
       "    <tr>\n",
       "      <th>0</th>\n",
       "      <td>39</td>\n",
       "      <td>1</td>\n",
       "      <td>Bachelors</td>\n",
       "      <td>Adm-clerical</td>\n",
       "      <td>40</td>\n",
       "      <td>State-gov</td>\n",
       "      <td>0</td>\n",
       "      <td>0</td>\n",
       "    </tr>\n",
       "    <tr>\n",
       "      <th>1</th>\n",
       "      <td>50</td>\n",
       "      <td>1</td>\n",
       "      <td>Bachelors</td>\n",
       "      <td>Exec-managerial</td>\n",
       "      <td>13</td>\n",
       "      <td>Self-emp-not-inc</td>\n",
       "      <td>0</td>\n",
       "      <td>1</td>\n",
       "    </tr>\n",
       "    <tr>\n",
       "      <th>2</th>\n",
       "      <td>38</td>\n",
       "      <td>1</td>\n",
       "      <td>HS-grad</td>\n",
       "      <td>Handlers-cleaners</td>\n",
       "      <td>40</td>\n",
       "      <td>Private</td>\n",
       "      <td>0</td>\n",
       "      <td>0</td>\n",
       "    </tr>\n",
       "    <tr>\n",
       "      <th>3</th>\n",
       "      <td>53</td>\n",
       "      <td>1</td>\n",
       "      <td>11th</td>\n",
       "      <td>Handlers-cleaners</td>\n",
       "      <td>40</td>\n",
       "      <td>Private</td>\n",
       "      <td>0</td>\n",
       "      <td>1</td>\n",
       "    </tr>\n",
       "    <tr>\n",
       "      <th>4</th>\n",
       "      <td>28</td>\n",
       "      <td>0</td>\n",
       "      <td>Bachelors</td>\n",
       "      <td>Prof-specialty</td>\n",
       "      <td>40</td>\n",
       "      <td>Private</td>\n",
       "      <td>0</td>\n",
       "      <td>1</td>\n",
       "    </tr>\n",
       "  </tbody>\n",
       "</table>\n",
       "</div>"
      ],
      "text/plain": [
       "   age  sex   education         occupation  hours-per-week         workclass  \\\n",
       "0   39    1   Bachelors       Adm-clerical              40         State-gov   \n",
       "1   50    1   Bachelors    Exec-managerial              13  Self-emp-not-inc   \n",
       "2   38    1     HS-grad  Handlers-cleaners              40           Private   \n",
       "3   53    1        11th  Handlers-cleaners              40           Private   \n",
       "4   28    0   Bachelors     Prof-specialty              40           Private   \n",
       "\n",
       "   income  Is Married?  \n",
       "0       0            0  \n",
       "1       0            1  \n",
       "2       0            0  \n",
       "3       0            1  \n",
       "4       0            1  "
      ]
     },
     "execution_count": 40,
     "metadata": {},
     "output_type": "execute_result"
    }
   ],
   "source": [
    "# Let us use the refined_dataset\n",
    "refined_dataset.head()"
   ]
  },
  {
   "cell_type": "code",
   "execution_count": 41,
   "id": "aeefa275",
   "metadata": {},
   "outputs": [
    {
     "data": {
      "image/png": "[encoded data removed]",
      "text/plain": [
       "<Figure size 1440x288 with 1 Axes>"
      ]
     },
     "metadata": {
      "needs_background": "light"
     },
     "output_type": "display_data"
    },
    {
     "data": {
      "image/png": "[encoded data removed]",
      "text/plain": [
       "<Figure size 1440x288 with 1 Axes>"
      ]
     },
     "metadata": {
      "needs_background": "light"
     },
     "output_type": "display_data"
    },
    {
     "data": {
      "image/png": "[encoded data removed]",
      "text/plain": [
       "<Figure size 1440x288 with 1 Axes>"
      ]
     },
     "metadata": {
      "needs_background": "light"
     },
     "output_type": "display_data"
    },
    {
     "data": {
      "image/png": "[encoded data removed]",
      "text/plain": [
       "<Figure size 1440x288 with 1 Axes>"
      ]
     },
     "metadata": {
      "needs_background": "light"
     },
     "output_type": "display_data"
    },
    {
     "data": {
      "image/png": "[encoded data removed]",
      "text/plain": [
       "<Figure size 1440x288 with 1 Axes>"
      ]
     },
     "metadata": {
      "needs_background": "light"
     },
     "output_type": "display_data"
    },
    {
     "data": {
      "image/png": "[encoded data removed]",
      "text/plain": [
       "<Figure size 1440x288 with 1 Axes>"
      ]
     },
     "metadata": {
      "needs_background": "light"
     },
     "output_type": "display_data"
    },
    {
     "data": {
      "image/png": "[encoded data removed]",
      "text/plain": [
       "<Figure size 1440x288 with 1 Axes>"
      ]
     },
     "metadata": {
      "needs_background": "light"
     },
     "output_type": "display_data"
    }
   ],
   "source": [
    "for col in refined_dataset.columns:\n",
    "    if col != 'income':\n",
    "        plt.figure(figsize = (20, 4))\n",
    "        sns.histplot(data=refined_dataset, x=col, hue= 'income')    "
   ]
  },
  {
   "cell_type": "markdown",
   "id": "e52417d5",
   "metadata": {},
   "source": [
    "## 3. Model Development "
   ]
  },
  {
   "cell_type": "code",
   "execution_count": 42,
   "id": "900a45f1",
   "metadata": {},
   "outputs": [],
   "source": [
    "#import packages \n",
    "from sklearn.model_selection import train_test_split\n",
    "from sklearn.dummy import DummyClassifier\n",
    "from sklearn.naive_bayes import MultinomialNB\n",
    "from sklearn.linear_model import LogisticRegression\n",
    "import xgboost\n",
    "from sklearn import metrics"
   ]
  },
  {
   "cell_type": "markdown",
   "id": "8f1b199a",
   "metadata": {},
   "source": [
    "### 3.1 train, validation, and test splits "
   ]
  },
  {
   "cell_type": "code",
   "execution_count": 43,
   "id": "8ad4714b",
   "metadata": {},
   "outputs": [],
   "source": [
    "X =  encoded_dataset.drop('income' , axis = 1)\n",
    "Y = encoded_dataset['income']"
   ]
  },
  {
   "cell_type": "code",
   "execution_count": 44,
   "id": "952cb54e",
   "metadata": {},
   "outputs": [],
   "source": [
    "xtrain, xtest, ytrain, ytest = train_test_split(X, Y, test_size=0.3)\n",
    "\n",
    "xtrain, xval, ytrain, yval = train_test_split(xtrain, ytrain, test_size= 0.2)"
   ]
  },
  {
   "cell_type": "markdown",
   "id": "5a186f97",
   "metadata": {},
   "source": [
    "### 3.2 Baseline modeling "
   ]
  },
  {
   "cell_type": "code",
   "execution_count": 45,
   "id": "fc111da3",
   "metadata": {},
   "outputs": [
    {
     "name": "stdout",
     "output_type": "stream",
     "text": [
      "Accuracy: 0.75\n",
      "AUC: 0.50\n",
      "F1 score: 0.00\n",
      "Confusion matrix [[TN, FP], [FN, TP]]: \n",
      "[[3121 1029]\n",
      " [   0    0]]\n"
     ]
    },
    {
     "data": {
      "image/png": "[encoded data removed]",
      "text/plain": [
       "<Figure size 432x288 with 1 Axes>"
      ]
     },
     "metadata": {
      "needs_background": "light"
     },
     "output_type": "display_data"
    }
   ],
   "source": [
    "dummy_clf = DummyClassifier(strategy='most_frequent')  #define baseline  model\n",
    "dummy_clf.fit(xtrain, ytrain) #train\n",
    "\n",
    "\n",
    "acc = metrics.accuracy_score(dummy_clf.predict(xval), yval)\n",
    "print(f'Accuracy: { acc:.2f}')\n",
    "\n",
    "probs = dummy_clf.predict_proba(xval)[:,1]\n",
    "auc = metrics.roc_auc_score(yval, probs)\n",
    "print(f'AUC: {auc:.2f}')\n",
    "\n",
    "f1 = metrics.f1_score(dummy_clf.predict(xval), yval)\n",
    "print(f'F1 score: {f1:.2f}')\n",
    "\n",
    "cm = metrics.confusion_matrix(dummy_clf.predict(xval), yval)\n",
    "print('Confusion matrix [[TN, FP], [FN, TP]]: ', cm, sep = '\\n')\n",
    "\n",
    "fpr, tpr, thresholds  = metrics.roc_curve(yval, probs)\n",
    "\n",
    "plt.plot(fpr, tpr, label = 'Model', lw = 3);\n",
    "plt.plot([0,1], [0,1], 'r--', label = 'random chance', lw = 3);\n",
    "plt.legend();\n",
    "plt.title('ROC Curve');\n",
    "plt.xlabel('False Positive Rate');\n",
    "plt.ylabel('True Positive Rate');\n"
   ]
  },
  {
   "cell_type": "markdown",
   "id": "798307a2",
   "metadata": {},
   "source": [
    "### 3.3 Model Selection"
   ]
  },
  {
   "cell_type": "markdown",
   "id": "64c77ba1",
   "metadata": {},
   "source": [
    "#### Naive Bayes "
   ]
  },
  {
   "cell_type": "code",
   "execution_count": 46,
   "id": "fcaabe26",
   "metadata": {},
   "outputs": [
    {
     "name": "stdout",
     "output_type": "stream",
     "text": [
      "Accuracy: 0.79\n",
      "AUC: 0.82\n",
      "F1 score: 0.54\n",
      "Confusion matrix [[TN, FP], [FN, TP]]: \n",
      "[[2794  533]\n",
      " [ 327  496]]\n"
     ]
    },
    {
     "data": {
      "image/png": "[encoded data removed]",
      "text/plain": [
       "<Figure size 432x288 with 1 Axes>"
      ]
     },
     "metadata": {
      "needs_background": "light"
     },
     "output_type": "display_data"
    }
   ],
   "source": [
    "naive =  MultinomialNB()  # define model\n",
    "naive.fit(xtrain, ytrain) # train model \n",
    "\n",
    "acc = metrics.accuracy_score(naive.predict(xval), yval)\n",
    "print(f'Accuracy: { acc:.2f}')\n",
    "\n",
    "probs = naive.predict_proba(xval)[:,1]\n",
    "auc = metrics.roc_auc_score(yval, probs)\n",
    "print(f'AUC: {auc:.2f}')\n",
    "\n",
    "f1 = metrics.f1_score(naive.predict(xval), yval)\n",
    "print(f'F1 score: {f1:.2f}')\n",
    "\n",
    "cm = metrics.confusion_matrix(naive.predict(xval), yval)\n",
    "print('Confusion matrix [[TN, FP], [FN, TP]]: ', cm, sep = '\\n')\n",
    "\n",
    "fpr, tpr, thresholds  = metrics.roc_curve(yval, probs)\n",
    "\n",
    "plt.plot(fpr, tpr, label = 'Model', lw = 3);\n",
    "plt.plot([0,1], [0,1], 'r--', label = 'random chance', lw = 3);\n",
    "plt.legend();\n",
    "plt.title('ROC Curve');\n",
    "plt.xlabel('False Positive Rate');\n",
    "plt.ylabel('True Positive Rate');\n"
   ]
  },
  {
   "cell_type": "markdown",
   "id": "9e5902d4",
   "metadata": {},
   "source": [
    "#### Logistic Regression "
   ]
  },
  {
   "cell_type": "code",
   "execution_count": 47,
   "id": "bf1f0089",
   "metadata": {},
   "outputs": [
    {
     "name": "stdout",
     "output_type": "stream",
     "text": [
      "Accuracy: 0.82\n",
      "AUC: 0.88\n",
      "F1 score: 0.60\n",
      "Confusion matrix [[TN, FP], [FN, TP]]: \n",
      "[[2860  481]\n",
      " [ 261  548]]\n"
     ]
    },
    {
     "data": {
      "image/png": "[encoded data removed]",
      "text/plain": [
       "<Figure size 432x288 with 1 Axes>"
      ]
     },
     "metadata": {
      "needs_background": "light"
     },
     "output_type": "display_data"
    }
   ],
   "source": [
    "lr =  LogisticRegression()  # define model\n",
    "lr.fit(xtrain, ytrain) # train model \n",
    "\n",
    "acc = metrics.accuracy_score(lr.predict(xval), yval)\n",
    "print(f'Accuracy: { acc:.2f}')\n",
    "\n",
    "probs = lr.predict_proba(xval)[:,1]\n",
    "auc = metrics.roc_auc_score(yval, probs)\n",
    "print(f'AUC: {auc:.2f}')\n",
    "\n",
    "f1 = metrics.f1_score(lr.predict(xval), yval)\n",
    "print(f'F1 score: {f1:.2f}')\n",
    "\n",
    "cm = metrics.confusion_matrix(lr.predict(xval), yval)\n",
    "print('Confusion matrix [[TN, FP], [FN, TP]]: ', cm, sep = '\\n')\n",
    "\n",
    "fpr, tpr, thresholds  = metrics.roc_curve(yval, probs)\n",
    "\n",
    "plt.plot(fpr, tpr, label = 'Model', lw = 3);\n",
    "plt.plot([0,1], [0,1], 'r--', label = 'random chance', lw = 3);\n",
    "plt.legend();\n",
    "plt.title('ROC Curve');\n",
    "plt.xlabel('False Positive Rate');\n",
    "plt.ylabel('True Positive Rate');"
   ]
  },
  {
   "cell_type": "markdown",
   "id": "de0b9cf0",
   "metadata": {},
   "source": [
    "#### XGBoost Classifier "
   ]
  },
  {
   "cell_type": "code",
   "execution_count": 48,
   "id": "ecb24481",
   "metadata": {},
   "outputs": [
    {
     "name": "stdout",
     "output_type": "stream",
     "text": [
      "Accuracy: 0.83\n",
      "AUC: 0.88\n",
      "F1 score: 0.62\n",
      "Confusion matrix [[TN, FP], [FN, TP]]: \n",
      "[[2843  447]\n",
      " [ 278  582]]\n"
     ]
    },
    {
     "data": {
      "image/png": "[encoded data removed]",
      "text/plain": [
       "<Figure size 432x288 with 1 Axes>"
      ]
     },
     "metadata": {
      "needs_background": "light"
     },
     "output_type": "display_data"
    }
   ],
   "source": [
    "xgb =  xgboost.XGBClassifier()  # define model\n",
    "xgb.fit(xtrain, ytrain) # train model \n",
    "\n",
    "acc = metrics.accuracy_score(xgb.predict(xval), yval)\n",
    "print(f'Accuracy: { acc:.2f}')\n",
    "\n",
    "probs = xgb.predict_proba(xval)[:,1]\n",
    "auc = metrics.roc_auc_score(yval, probs)\n",
    "print(f'AUC: {auc:.2f}')\n",
    "\n",
    "f1 = metrics.f1_score(xgb.predict(xval), yval)\n",
    "print(f'F1 score: {f1:.2f}')\n",
    "\n",
    "cm = metrics.confusion_matrix(xgb.predict(xval), yval)\n",
    "print('Confusion matrix [[TN, FP], [FN, TP]]: ', cm, sep = '\\n')\n",
    "\n",
    "fpr, tpr, thresholds  = metrics.roc_curve(yval, probs)\n",
    "\n",
    "plt.plot(fpr, tpr, label = 'Model', lw = 3);\n",
    "plt.plot([0,1], [0,1], 'r--', label = 'random chance', lw = 3);\n",
    "plt.legend();\n",
    "plt.title('ROC Curve');\n",
    "plt.xlabel('False Positive Rate');\n",
    "plt.ylabel('True Positive Rate');"
   ]
  },
  {
   "cell_type": "markdown",
   "id": "7fc3a4dc",
   "metadata": {},
   "source": [
    "### 3.4 Model optimization "
   ]
  },
  {
   "cell_type": "code",
   "execution_count": 49,
   "id": "19500f66",
   "metadata": {},
   "outputs": [
    {
     "name": "stdout",
     "output_type": "stream",
     "text": [
      "Accuracy: 0.83\n",
      "AUC: 0.89\n",
      "F1 score: 0.62\n",
      "Confusion matrix [[TN, FP], [FN, TP]]: \n",
      "[[2849  442]\n",
      " [ 272  587]]\n"
     ]
    },
    {
     "data": {
      "image/png": "[encoded data removed]",
      "text/plain": [
       "<Figure size 432x288 with 1 Axes>"
      ]
     },
     "metadata": {
      "needs_background": "light"
     },
     "output_type": "display_data"
    }
   ],
   "source": [
    "xgb =  xgboost.XGBClassifier(n_estimators = 50)  # define model and do hyperparamters tuning \n",
    "xgb.fit(xtrain, ytrain) # train model \n",
    "\n",
    "acc = metrics.accuracy_score(xgb.predict(xval), yval)\n",
    "print(f'Accuracy: { acc:.2f}')\n",
    "\n",
    "probs = xgb.predict_proba(xval)[:,1]\n",
    "auc = metrics.roc_auc_score(yval, probs)\n",
    "print(f'AUC: {auc:.2f}')\n",
    "\n",
    "f1 = metrics.f1_score(xgb.predict(xval), yval)\n",
    "print(f'F1 score: {f1:.2f}')\n",
    "\n",
    "cm = metrics.confusion_matrix(xgb.predict(xval), yval)\n",
    "print('Confusion matrix [[TN, FP], [FN, TP]]: ', cm, sep = '\\n')\n",
    "\n",
    "fpr, tpr, thresholds  = metrics.roc_curve(yval, probs)\n",
    "\n",
    "plt.plot(fpr, tpr, label = 'Model', lw = 3);\n",
    "plt.plot([0,1], [0,1], 'r--', label = 'random chance', lw = 3);\n",
    "plt.legend();\n",
    "plt.title('ROC Curve');\n",
    "plt.xlabel('False Positive Rate');\n",
    "plt.ylabel('True Positive Rate');"
   ]
  },
  {
   "cell_type": "markdown",
   "id": "cec2a0d0",
   "metadata": {},
   "source": [
    "#### Conlusions for model dev"
   ]
  },
  {
   "cell_type": "markdown",
   "id": "61a51b64",
   "metadata": {},
   "source": [
    "Select XGBoost classifier for further steps. "
   ]
  },
  {
   "cell_type": "markdown",
   "id": "47af6502",
   "metadata": {},
   "source": [
    "# 4. Model Testing "
   ]
  },
  {
   "cell_type": "markdown",
   "id": "b9d1f33d",
   "metadata": {},
   "source": [
    "Metrics:\n",
    "* Accuracy\n",
    "* AUC\n",
    "* F1 Score\n",
    "* ROC Curve "
   ]
  },
  {
   "cell_type": "code",
   "execution_count": 50,
   "id": "e1c33515",
   "metadata": {},
   "outputs": [
    {
     "name": "stdout",
     "output_type": "stream",
     "text": [
      "Accuracy: 0.84\n",
      "AUC: 0.89\n",
      "F1 score: 0.64\n",
      "Confusion matrix [[TN, FP], [FN, TP]]: \n",
      "[[6208  921]\n",
      " [ 507 1257]]\n"
     ]
    },
    {
     "data": {
      "image/png": "[encoded data removed]",
      "text/plain": [
       "<Figure size 432x288 with 1 Axes>"
      ]
     },
     "metadata": {
      "needs_background": "light"
     },
     "output_type": "display_data"
    }
   ],
   "source": [
    "# Use the testing dataset \n",
    "acc = metrics.accuracy_score(xgb.predict(xtest), ytest)\n",
    "print(f'Accuracy: { acc:.2f}')\n",
    "\n",
    "probs = xgb.predict_proba(xtest)[:,1]\n",
    "auc = metrics.roc_auc_score(ytest, probs)\n",
    "print(f'AUC: {auc:.2f}')\n",
    "\n",
    "f1 = metrics.f1_score(xgb.predict(xtest), ytest)\n",
    "print(f'F1 score: {f1:.2f}')\n",
    "\n",
    "cm = metrics.confusion_matrix(xgb.predict(xtest), ytest)\n",
    "print('Confusion matrix [[TN, FP], [FN, TP]]: ', cm, sep = '\\n')\n",
    "\n",
    "fpr, tpr, thresholds  = metrics.roc_curve(ytest, probs)\n",
    "\n",
    "plt.plot(fpr, tpr, label = 'Model', lw = 3);\n",
    "plt.plot([0,1], [0,1], 'r--', label = 'random chance', lw = 3);\n",
    "plt.legend();\n",
    "plt.title('ROC Curve');\n",
    "plt.xlabel('False Positive Rate');\n",
    "plt.ylabel('True Positive Rate');"
   ]
  },
  {
   "cell_type": "markdown",
   "id": "d97a3fc0",
   "metadata": {},
   "source": [
    "# 5. Model Packaging "
   ]
  },
  {
   "cell_type": "markdown",
   "id": "d286f4b9",
   "metadata": {},
   "source": [
    "Usually, model is packaged in a container like a docker container. For this lecture, we will save the trained model to a json file and reuse it later. "
   ]
  },
  {
   "cell_type": "code",
   "execution_count": 51,
   "id": "5d3f5b3c",
   "metadata": {},
   "outputs": [],
   "source": [
    "import joblib "
   ]
  },
  {
   "cell_type": "code",
   "execution_count": 52,
   "id": "ab3245bc",
   "metadata": {},
   "outputs": [
    {
     "data": {
      "text/plain": [
       "['xgb_model.json']"
      ]
     },
     "execution_count": 52,
     "metadata": {},
     "output_type": "execute_result"
    }
   ],
   "source": [
    "joblib.dump(xgb, 'xgb_model.json')"
   ]
  },
  {
   "cell_type": "code",
   "execution_count": 53,
   "id": "e74250e0",
   "metadata": {},
   "outputs": [
    {
     "name": "stdout",
     "output_type": "stream",
     "text": [
      "Accuracy: 0.84\n",
      "AUC: 0.89\n",
      "F1 score: 0.64\n",
      "Confusion matrix [[TN, FP], [FN, TP]]: \n",
      "[[6208  921]\n",
      " [ 507 1257]]\n"
     ]
    },
    {
     "data": {
      "image/png": "[encoded data removed]",
      "text/plain": [
       "<Figure size 432x288 with 1 Axes>"
      ]
     },
     "metadata": {
      "needs_background": "light"
     },
     "output_type": "display_data"
    }
   ],
   "source": [
    "# load and test the model \n",
    "xgb_loaded =  joblib.load('xgb_model.json')\n",
    "\n",
    "\n",
    "acc = metrics.accuracy_score(xgb_loaded.predict(xtest), ytest)\n",
    "print(f'Accuracy: { acc:.2f}')\n",
    "\n",
    "probs = xgb_loaded.predict_proba(xtest)[:,1]\n",
    "auc = metrics.roc_auc_score(ytest, probs)\n",
    "print(f'AUC: {auc:.2f}')\n",
    "\n",
    "f1 = metrics.f1_score(xgb_loaded.predict(xtest), ytest)\n",
    "print(f'F1 score: {f1:.2f}')\n",
    "\n",
    "cm = metrics.confusion_matrix(xgb_loaded.predict(xtest), ytest)\n",
    "print('Confusion matrix [[TN, FP], [FN, TP]]: ', cm, sep = '\\n')\n",
    "\n",
    "fpr, tpr, thresholds  = metrics.roc_curve(ytest, probs)\n",
    "\n",
    "plt.plot(fpr, tpr, label = 'Model', lw = 3);\n",
    "plt.plot([0,1], [0,1], 'r--', label = 'random chance', lw = 3);\n",
    "plt.legend();\n",
    "plt.title('ROC Curve');\n",
    "plt.xlabel('False Positive Rate');\n",
    "plt.ylabel('True Positive Rate');\n"
   ]
  },
  {
   "cell_type": "markdown",
   "id": "badd226a",
   "metadata": {},
   "source": [
    "# 6. Deployment"
   ]
  },
  {
   "cell_type": "markdown",
   "id": "016ca953",
   "metadata": {},
   "source": [
    "This model will be deployed as a desktop application (on premise) and will support batch inference."
   ]
  },
  {
   "cell_type": "code",
   "execution_count": 54,
   "id": "4c42d222",
   "metadata": {},
   "outputs": [
    {
     "name": "stdout",
     "output_type": "stream",
     "text": [
      "   ID  Is > 50K?\n",
      "0   0          0\n",
      "1   1          0\n",
      "2   2          0\n",
      "3   3          0\n",
      "4   4          0\n",
      "   ID  Is > 50K?\n",
      "0   0          0\n",
      "1   1          0\n",
      "2   2          0\n",
      "3   3          0\n",
      "4   4          0\n",
      "   ID  Is > 50K?\n",
      "0   0          0\n",
      "1   1          0\n",
      "2   2          0\n",
      "3   3          0\n",
      "4   4          0\n"
     ]
    },
    {
     "data": {
      "text/plain": [
       "<Figure size 432x288 with 0 Axes>"
      ]
     },
     "metadata": {},
     "output_type": "display_data"
    }
   ],
   "source": [
    "%run deploy_model.py"
   ]
  },
  {
   "cell_type": "markdown",
   "id": "f7061c98",
   "metadata": {},
   "source": [
    "# 7. Monitoring and Maintenance "
   ]
  },
  {
   "cell_type": "markdown",
   "id": "1d1628d4",
   "metadata": {},
   "source": [
    "* Monitor for data drift\n",
    "* Monitor for concept drift\n",
    "* Identify and resolve bugs\n",
    "* Retrain model if necessary"
   ]
  },
  {
   "cell_type": "markdown",
   "id": "e54535d5",
   "metadata": {},
   "source": [
    "<h1 align ='center'> Thank you! </h1>"
   ]
  },
  {
   "cell_type": "code",
   "execution_count": null,
   "id": "e0bdc4d1",
   "metadata": {},
   "outputs": [],
   "source": []
  }
 ],
 "metadata": {
  "kernelspec": {
   "display_name": "Python 3 (ipykernel)",
   "language": "python",
   "name": "python3"
  },
  "language_info": {
   "codemirror_mode": {
    "name": "ipython",
    "version": 3
   },
   "file_extension": ".py",
   "mimetype": "text/x-python",
   "name": "python",
   "nbconvert_exporter": "python",
   "pygments_lexer": "ipython3",
   "version": "3.9.12"
  }
 },
 "nbformat": 4,
 "nbformat_minor": 5
}
